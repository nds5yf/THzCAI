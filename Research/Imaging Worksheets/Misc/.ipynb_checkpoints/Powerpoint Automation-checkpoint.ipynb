{
 "cells": [
  {
   "cell_type": "code",
   "execution_count": 8,
   "metadata": {
    "collapsed": true
   },
   "outputs": [],
   "source": [
    "from caik import cai\n",
    "import win32com.client\n",
    "import os\n",
    "from PIL import Image, ImageDraw"
   ]
  },
  {
   "cell_type": "code",
   "execution_count": 15,
   "metadata": {
    "collapsed": true
   },
   "outputs": [],
   "source": [
    "def make_pptx(rank):\n",
    "    hm = cai.CAI(dimension = rank)\n",
    "    Application = win32com.client.Dispatch(\"PowerPoint.Application\")\n",
    "    Presentation = Application.Presentations.Add()\n",
    "    for x in range(0, len(hm.matrixList)):\n",
    "        #make a slide\n",
    "        print x\n",
    "        slide = Presentation.Slides.Add(1, 12)\n",
    "        #black background\n",
    "        background = Presentation.Slides[x].ColorScheme.Colors(1).RGB = 0\n",
    "        #make base image\n",
    "        image = Image.new('RGB', (hm.canvasSize, hm.canvasSize), (255, 255, 255))\n",
    "        draw = ImageDraw.Draw(image)\n",
    "        #draw image\n",
    "        matrix = hm.matrixList[x]\n",
    "        drawH(matrix, hm.canvasSize, 0, 0, 2, draw)\n",
    "        #save image in pwd\n",
    "        image.save('mask.png')\n",
    "        #put mask on the slide\n",
    "        mask = slide.Shapes.AddPicture(FileName = 'C:\\\\Users\\\\Michael\\\\Documents\\\\GitHub\\\\THzCAI\\\\Research\\\\Imaging Worksheets\\\\Imaging\\\\mask.png', LinkToFile = False, SaveWithDocument = True, Left = 200, Top = 0, Width = -1, Height = -1)\n",
    "        '''\n",
    "        #do the inverse mask\n",
    "        slide = Presentation.Slides.Add(1, 12)\n",
    "        background = Presentation.Slides[x+1].ColorScheme.Colors(1).RGB = 0\n",
    "        image = Image.new('RGB', (hm.canvasSize, hm.canvasSize), (255, 255, 255))\n",
    "        draw = ImageDraw.Draw(image)\n",
    "        #reverse the image\n",
    "        matrix = cai.inverse(hm.matrixList[x])\n",
    "        drawH(matrix, hm.canvasSize)\n",
    "        image.save('mask.png')\n",
    "        mask = slide.Shapes.AddPicture(FileName = 'C:\\\\Users\\\\Michael\\\\Documents\\\\GitHub\\\\THzCAI\\\\Research\\\\Imaging Worksheets\\\\Imaging\\\\mask.png', LinkToFile = False, SaveWithDocument = True, Left = 200, Top = 0, Width = -1, Height = -1)\n",
    "        '''\n",
    "    Presentation.SaveAs(os.getcwd() + '\\\\Hadamard Masks ' + str(rank))"
   ]
  },
  {
   "cell_type": "code",
   "execution_count": 16,
   "metadata": {
    "collapsed": false
   },
   "outputs": [
    {
     "name": "stdout",
     "output_type": "stream",
     "text": [
      "NOTE: GPIB instuments have not been initialized.\n"
     ]
    }
   ],
   "source": [
    "make_pptx(0)"
   ]
  },
  {
   "cell_type": "code",
   "execution_count": 14,
   "metadata": {
    "collapsed": false
   },
   "outputs": [
    {
     "data": {
      "text/plain": [
       "4"
      ]
     },
     "execution_count": 14,
     "metadata": {},
     "output_type": "execute_result"
    }
   ],
   "source": [
    "len(hm.matrixList)"
   ]
  },
  {
   "cell_type": "code",
   "execution_count": null,
   "metadata": {
    "collapsed": true
   },
   "outputs": [],
   "source": []
  }
 ],
 "metadata": {
  "kernelspec": {
   "display_name": "Python 2",
   "language": "python",
   "name": "python2"
  },
  "language_info": {
   "codemirror_mode": {
    "name": "ipython",
    "version": 2
   },
   "file_extension": ".py",
   "mimetype": "text/x-python",
   "name": "python",
   "nbconvert_exporter": "python",
   "pygments_lexer": "ipython2",
   "version": "2.7.11"
  }
 },
 "nbformat": 4,
 "nbformat_minor": 0
}
