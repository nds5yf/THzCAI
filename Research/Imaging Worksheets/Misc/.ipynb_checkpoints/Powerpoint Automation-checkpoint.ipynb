{
 "cells": [
  {
   "cell_type": "code",
   "execution_count": 1,
   "metadata": {
    "collapsed": false
   },
   "outputs": [],
   "source": [
    "from caik import cai\n",
    "import win32com.client\n",
    "import os\n",
    "from PIL import Image, ImageDraw\n",
    "import math"
   ]
  },
  {
   "cell_type": "markdown",
   "metadata": {},
   "source": [
    "# If making PPT of rank 6 or higher, I recommend splitting into multiple PPTs to compensate for high complexity"
   ]
  },
  {
   "cell_type": "code",
   "execution_count": 2,
   "metadata": {
    "collapsed": false
   },
   "outputs": [],
   "source": [
    "def make_pptx(rank):\n",
    "    hm = cai.CAI(dimension = rank)\n",
    "    Application = win32com.client.Dispatch(\"PowerPoint.Application\")\n",
    "    Presentation = Application.Presentations.Add()\n",
    "    for x in range((len(hm.matrixList)) - 1,-1 , -1):\n",
    "        #make a slide\n",
    "        slide = Presentation.Slides.Add(1, 12)\n",
    "        #black background\n",
    "        background = Presentation.Slides[0].ColorScheme.Colors(1).RGB = 0\n",
    "        #make base image\n",
    "        image = Image.new('RGB', (hm.canvasSize, hm.canvasSize), (255, 255, 255))\n",
    "        draw = ImageDraw.Draw(image)\n",
    "        #draw image\n",
    "        matrix = hm.matrixList[x]\n",
    "        cai.drawH(matrix, hm.canvasSize, 0, 0, 2, draw)\n",
    "        #save image in pwd\n",
    "        image.save(\"mask.png\")\n",
    "        #put mask on the slide\n",
    "        mask = slide.Shapes.AddPicture(FileName = 'C:\\\\Users\\\\Michael\\\\Documents\\\\GitHub\\\\THzCAI\\\\Research\\\\Imaging Worksheets\\\\Misc\\\\mask.png', LinkToFile = False, SaveWithDocument = True, Left = 200, Top = 0, Width = -1, Height = -1)\n",
    "        \n",
    "        #do the inverse mask\n",
    "        slide = Presentation.Slides.Add(1, 12)\n",
    "        background = Presentation.Slides[0].ColorScheme.Colors(1).RGB = 0\n",
    "        image = Image.new('RGB', (hm.canvasSize, hm.canvasSize), (255, 255, 255))\n",
    "        draw = ImageDraw.Draw(image)\n",
    "        #reverse the image\n",
    "        matrix = cai.inverse(hm.matrixList[x])\n",
    "        cai.drawH(matrix, hm.canvasSize, 0, 0, 2, draw)\n",
    "        image.save('mask.png')\n",
    "        mask = slide.Shapes.AddPicture(FileName = 'C:\\\\Users\\\\Michael\\\\Documents\\\\GitHub\\\\THzCAI\\\\Research\\\\Imaging Worksheets\\\\Misc\\\\mask.png', LinkToFile = False, SaveWithDocument = True, Left = 200, Top = 0, Width = 200, Height = 200)\n",
    "    #put one black slide in the presentation to use in between each mask\n",
    "    slide = Presentation.Slides.Add(1, 12)\n",
    "    background = Presentation.Slides[0].ColorScheme.Colors(1).RGB = 0\n",
    "    Presentation.SaveAs(os.getcwd() + '\\\\Hadamard Masks ' + str(rank))\n",
    "    os.system(\"taskkill /im powerpnt.exe /f\")"
   ]
  },
  {
   "cell_type": "code",
   "execution_count": 3,
   "metadata": {
    "collapsed": false
   },
   "outputs": [
    {
     "name": "stdout",
     "output_type": "stream",
     "text": [
      "NOTE: GPIB instuments have not been initialized.\n"
     ]
    }
   ],
   "source": [
    "make_pptx(5)"
   ]
  },
  {
   "cell_type": "code",
   "execution_count": 13,
   "metadata": {
    "collapsed": false
   },
   "outputs": [
    {
     "name": "stdout",
     "output_type": "stream",
     "text": [
      "NOTE: GPIB instuments have not been initialized.\n"
     ]
    }
   ],
   "source": [
    "hm = cai.CAI(dimension = 6)"
   ]
  },
  {
   "cell_type": "code",
   "execution_count": 14,
   "metadata": {
    "collapsed": false
   },
   "outputs": [
    {
     "data": {
      "text/plain": [
       "4096"
      ]
     },
     "execution_count": 14,
     "metadata": {},
     "output_type": "execute_result"
    }
   ],
   "source": [
    "len(hm.matrixList)"
   ]
  },
  {
   "cell_type": "code",
   "execution_count": 26,
   "metadata": {
    "collapsed": false
   },
   "outputs": [],
   "source": [
    "li = cai.recursion_fix(6, hm.matrixList)"
   ]
  },
  {
   "cell_type": "code",
   "execution_count": 35,
   "metadata": {
    "collapsed": false
   },
   "outputs": [
    {
     "data": {
      "text/plain": [
       "'1--1-11--11-1--1-11-1--11--1-11--11-1--11--1-11-1--1-11--11-1--111----11--1111----1111--11----11--1111--11----1111----11--1111--1-1--1-1-1-11-1--1-11-1-1-1--1-1-1-11-1-1-1--1-11-1--1-1-1-11-1-1111--------1111----11111111--------11111111----1111--------11111--11--1-11--11--11--11-1--11--1-11--11-1--11--11--11--1-11--11-11--11----11--11--11--1111--11----11--1111--11--11--11----11--111-1-1-1--1-1-1-1-1-1-1-11-1-1-1--1-1-1-11-1-1-1-1-1-1-1--1-1-1-111111111----------------11111111--------1111111111111111--------1--1-11-1--1-11--11-1--1-11-1--1-11-1--1-11-1--11--1-11-1--1-11-11----1111----11--1111----1111----1111----1111--11----1111----111-1--1-11-1--1-1-1-11-1--1-11-1--1-11-1--1-11-1-1-1--1-11-1--1-11111----1111--------1111----1111----1111----11111111----1111----1--11--11--11--1-11--11--11--11--11--11--11--11-1--11--11--11--111--11--11--11----11--11--11--11--11--11--11--1111--11--11--11--1-1-1-1-1-1-1-1--1-1-1-1-1-1-1-1-1-1-1-1-1-1-1-11-1-1-1-1-1-1-1-1111111111111111--------------------------------11111111111111111--1-11--11-1--11--1-11--11-1--1-11-1--11--1-11--11-1--11--1-11-11----11--1111--11----11--1111----1111--11----11--1111--11----111-1--1-1-1-11-1-1-1--1-1-1-11-1--1-11-1-1-1--1-1-1-11-1-1-1--1-11111--------11111111--------1111----11111111--------11111111----1--11--1-11--11-1--11--1-11--11--11--11-1--11--1-11--11-1--11--111--11----11--1111--11----11--11--11--1111--11----11--1111--11--1-1-1-1--1-1-1-11-1-1-1--1-1-1-1-1-1-1-11-1-1-1--1-1-1-11-1-1-1-11111111--------11111111----------------11111111--------111111111--1-11-1--1-11-1--1-11-1--1-11--11-1--1-11-1--1-11-1--1-11-1--111----1111----1111----1111----11--1111----1111----1111----1111--1-1--1-11-1--1-11-1--1-11-1--1-1-1-11-1--1-11-1--1-11-1--1-11-1-1111----1111----1111----1111--------1111----1111----1111----11111--11--11--11--11--11--11--11--1-11--11--11--11--11--11--11--11-11--11--11--11--11--11--11--11----11--11--11--11--11--11--11--111-1-1-1-1-1-1-1-1-1-1-1-1-1-1-1--1-1-1-1-1-1-1-1-1-1-1-1-1-1-1-111111111111111111111111111111111--------------------------------1--1-11--11-1--1-11-1--11--1-11-1--1-11--11-1--1-11-1--11--1-11-11----11--1111----1111--11----1111----11--1111----1111--11----111-1--1-1-1-11-1--1-11-1-1-1--1-11-1--1-1-1-11-1--1-11-1-1-1--1-11111--------1111----11111111----1111--------1111----11111111----1--11--1-11--11--11--11-1--11--11--11--1-11--11--11--11-1--11--111--11----11--11--11--1111--11--11--11----11--11--11--1111--11--1-1-1-1--1-1-1-1-1-1-1-11-1-1-1-1-1-1-1--1-1-1-1-1-1-1-11-1-1-1-11111111----------------1111111111111111----------------111111111--1-11-1--1-11--11-1--1-11-1--11--1-11-1--1-11--11-1--1-11-1--111----1111----11--1111----1111--11----1111----11--1111----1111--1-1--1-11-1--1-1-1-11-1--1-11-1-1-1--1-11-1--1-1-1-11-1--1-11-1-1111----1111--------1111----11111111----1111--------1111----11111--11--11--11--1-11--11--11--11-1--11--11--11--1-11--11--11--11-11--11--11--11----11--11--11--1111--11--11--11----11--11--11--111-1-1-1-1-1-1-1--1-1-1-1-1-1-1-11-1-1-1-1-1-1-1--1-1-1-1-1-1-1-11111111111111111----------------1111111111111111----------------1--1-11--11-1--11--1-11--11-1--11--1-11--11-1--11--1-11--11-1--111----11--1111--11----11--1111--11----11--1111--11----11--1111--1-1--1-1-1-11-1-1-1--1-1-1-11-1-1-1--1-1-1-11-1-1-1--1-1-1-11-1-1111--------11111111--------11111111--------11111111--------11111--11--1-11--11-1--11--1-11--11-1--11--1-11--11-1--11--1-11--11-11--11----11--1111--11----11--1111--11----11--1111--11----11--111-1-1-1--1-1-1-11-1-1-1--1-1-1-11-1-1-1--1-1-1-11-1-1-1--1-1-1-111111111--------11111111--------11111111--------11111111--------1--1-11-1--1-11-1--1-11-1--1-11-1--1-11-1--1-11-1--1-11-1--1-11-11----1111----1111----1111----1111----1111----1111----1111----111-1--1-11-1--1-11-1--1-11-1--1-11-1--1-11-1--1-11-1--1-11-1--1-11111----1111----1111----1111----1111----1111----1111----1111----1--11--11--11--11--11--11--11--11--11--11--11--11--11--11--11--111--11--11--11--11--11--11--11--11--11--11--11--11--11--11--11--1-1-1-1-1-1-1-1-1-1-1-1-1-1-1-1-1-1-1-1-1-1-1-1-1-1-1-1-1-1-1-1-1111111111111111111111111111111111111111111111111111111111111111'"
      ]
     },
     "execution_count": 35,
     "metadata": {},
     "output_type": "execute_result"
    }
   ],
   "source": [
    "li[4095]"
   ]
  },
  {
   "cell_type": "code",
   "execution_count": null,
   "metadata": {
    "collapsed": true
   },
   "outputs": [],
   "source": []
  }
 ],
 "metadata": {
  "kernelspec": {
   "display_name": "Python 2",
   "language": "python",
   "name": "python2"
  },
  "language_info": {
   "codemirror_mode": {
    "name": "ipython",
    "version": 2
   },
   "file_extension": ".py",
   "mimetype": "text/x-python",
   "name": "python",
   "nbconvert_exporter": "python",
   "pygments_lexer": "ipython2",
   "version": "2.7.11"
  }
 },
 "nbformat": 4,
 "nbformat_minor": 0
}
